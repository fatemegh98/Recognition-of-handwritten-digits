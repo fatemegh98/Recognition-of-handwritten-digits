{
 "cells": [
  {
   "cell_type": "code",
   "execution_count": 4,
   "metadata": {},
   "outputs": [],
   "source": [
    "import struct\n",
    "import numpy as np\n",
    "import cv2\n",
    "import matplotlib.pyplot as plt"
   ]
  },
  {
   "cell_type": "markdown",
   "metadata": {},
   "source": [
    "# reading dataset"
   ]
  },
  {
   "cell_type": "code",
   "execution_count": 1,
   "metadata": {},
   "outputs": [],
   "source": [
    "def read_hoda_cdb(file_name):\n",
    "    with open(file_name, 'rb') as binary_file:\n",
    "\n",
    "        data = binary_file.read()\n",
    "\n",
    "        offset = 0\n",
    "\n",
    "        # read private header\n",
    "\n",
    "        yy = struct.unpack_from('H', data, offset)[0]\n",
    "        offset += 2\n",
    "\n",
    "        m = struct.unpack_from('B', data, offset)[0]\n",
    "        offset += 1\n",
    "\n",
    "        d = struct.unpack_from('B', data, offset)[0]\n",
    "        offset += 1\n",
    "\n",
    "        H = struct.unpack_from('B', data, offset)[0]\n",
    "        offset += 1\n",
    "\n",
    "        W = struct.unpack_from('B', data, offset)[0]\n",
    "        offset += 1\n",
    "\n",
    "        TotalRec = struct.unpack_from('I', data, offset)[0]\n",
    "        offset += 4\n",
    "\n",
    "        LetterCount = struct.unpack_from('128I', data, offset)\n",
    "        offset += 128 * 4\n",
    "\n",
    "        imgType = struct.unpack_from('B', data, offset)[0]  # 0: binary, 1: gray\n",
    "        offset += 1\n",
    "\n",
    "        Comments = struct.unpack_from('256c', data, offset)\n",
    "        offset += 256 * 1\n",
    "\n",
    "        Reserved = struct.unpack_from('245c', data, offset)\n",
    "        offset += 245 * 1\n",
    "\n",
    "        if (W > 0) and (H > 0):\n",
    "            normal = True\n",
    "        else:\n",
    "            normal = False\n",
    "\n",
    "        images = []\n",
    "        labels = []\n",
    "\n",
    "        for i in range(TotalRec):\n",
    "\n",
    "            StartByte = struct.unpack_from('B', data, offset)[0]  # must be 0xff\n",
    "            offset += 1\n",
    "\n",
    "            label = struct.unpack_from('B', data, offset)[0]\n",
    "            offset += 1\n",
    "\n",
    "            if not normal:\n",
    "                W = struct.unpack_from('B', data, offset)[0]\n",
    "                offset += 1\n",
    "\n",
    "                H = struct.unpack_from('B', data, offset)[0]\n",
    "                offset += 1\n",
    "\n",
    "            ByteCount = struct.unpack_from('H', data, offset)[0]\n",
    "            offset += 2\n",
    "\n",
    "            image = np.zeros(shape=[H, W], dtype=np.uint8)\n",
    "\n",
    "            if imgType == 0:\n",
    "                # Binary\n",
    "                for y in range(H):\n",
    "                    bWhite = True\n",
    "                    counter = 0\n",
    "                    while counter < W:\n",
    "                        WBcount = struct.unpack_from('B', data, offset)[0]\n",
    "                        offset += 1\n",
    "                        # x = 0\n",
    "                        # while x < WBcount:\n",
    "                        #     if bWhite:\n",
    "                        #         image[y, x + counter] = 0  # Background\n",
    "                        #     else:\n",
    "                        #         image[y, x + counter] = 255  # ForeGround\n",
    "                        #     x += 1\n",
    "                        if bWhite:\n",
    "                            image[y, counter:counter + WBcount] = 0  # Background\n",
    "                        else:\n",
    "                            image[y, counter:counter + WBcount] = 255  # ForeGround\n",
    "                        bWhite = not bWhite  # black white black white ...\n",
    "                        counter += WBcount\n",
    "            else:\n",
    "                # GrayScale mode\n",
    "                data = struct.unpack_from('{}B'.format(W * H), data, offset)\n",
    "                offset += W * H\n",
    "                image = np.asarray(data, dtype=np.uint8).reshape([W, H]).T\n",
    "\n",
    "            images.append(image)\n",
    "            labels.append(label)\n",
    "\n",
    "        return images, labels\n"
   ]
  },
  {
   "cell_type": "code",
   "execution_count": 3,
   "metadata": {},
   "outputs": [],
   "source": [
    "images,labels = read_hoda_cdb('Train 60000.cdb')"
   ]
  },
  {
   "cell_type": "code",
   "execution_count": 16,
   "metadata": {
    "scrolled": true
   },
   "outputs": [
    {
     "name": "stdout",
     "output_type": "stream",
     "text": [
      "(36, 28)\n"
     ]
    },
    {
     "data": {
      "text/plain": [
       "<matplotlib.image.AxesImage at 0x27ac577bbe0>"
      ]
     },
     "execution_count": 16,
     "metadata": {},
     "output_type": "execute_result"
    },
    {
     "data": {
      "image/png": "[encoded data removed]",
      "text/plain": [
       "<Figure size 432x288 with 1 Axes>"
      ]
     },
     "metadata": {
      "needs_background": "light"
     },
     "output_type": "display_data"
    }
   ],
   "source": [
    "print(images[4].shape)\n",
    "plt.imshow(images[4],cmap='gray')"
   ]
  },
  {
   "cell_type": "markdown",
   "metadata": {},
   "source": [
    "# change image shape"
   ]
  },
  {
   "cell_type": "code",
   "execution_count": 61,
   "metadata": {
    "scrolled": true
   },
   "outputs": [],
   "source": [
    "new_images = []\n",
    "for i in range(len(images)):\n",
    "    img = images[i]\n",
    "    if img.shape[0]%3 == 2 :\n",
    "        arr = np.zeros(img.shape[1])\n",
    "        img = np.vstack((img,arr))\n",
    "    if img.shape[0]%3 == 1 :\n",
    "        arr = np.zeros(img.shape[1])\n",
    "        img = np.vstack((img,arr))\n",
    "        img = np.vstack((img,arr))\n",
    "    if img.shape[1]%3 == 2 :\n",
    "        arr = np.zeros((img.shape[0],1))\n",
    "        img = np.hstack((img,arr))\n",
    "    if img.shape[1]%3 == 1 :\n",
    "        arr = np.zeros((img.shape[0],1))\n",
    "        img = np.hstack((img,arr))\n",
    "        img = np.hstack((img,arr))\n",
    "    new_images.append(img)"
   ]
  },
  {
   "cell_type": "code",
   "execution_count": 65,
   "metadata": {},
   "outputs": [],
   "source": [
    "for i in range(len(new_images)):\n",
    "    if new_images[i].shape[0]%3 != 0:\n",
    "        print('no')\n",
    "    if new_images[i].shape[1]%3 != 0:\n",
    "        print('no')"
   ]
  },
  {
   "cell_type": "markdown",
   "metadata": {},
   "source": [
    "# canny operation"
   ]
  },
  {
   "cell_type": "code",
   "execution_count": 71,
   "metadata": {},
   "outputs": [],
   "source": [
    "import cv2 as cv\n",
    "\n",
    "newnew_images = []\n",
    "for i in range(len(new_images)):\n",
    "    img = np.uint8(new_images[i])\n",
    "    edges = cv.Canny(img,100,200)\n",
    "    newnew_images.append(edges)"
   ]
  },
  {
   "cell_type": "markdown",
   "metadata": {},
   "source": [
    "# devide each image to nine equal part and computing chain code histogram for each part"
   ]
  },
  {
   "cell_type": "code",
   "execution_count": 129,
   "metadata": {},
   "outputs": [],
   "source": [
    "from PIL import Image\n",
    "\n",
    "image_parts = []\n",
    "img_feature = np.zeros((len(newnew_images),72))\n",
    "\n",
    "for t in range(len(newnew_images)):\n",
    "    im = Image.fromarray(newnew_images[t])\n",
    "    imgwidth, imgheight = im.size\n",
    "    height = int(imgheight/3)\n",
    "    width = int(imgwidth/3)\n",
    "    list_part = []\n",
    "    for i in range(0,imgheight,height):\n",
    "        for j in range(0,imgwidth,width):\n",
    "            box = (j, i, j+width, i+height)\n",
    "            a = im.crop(box)\n",
    "            list_part.append(a)\n",
    "    part_feature = np.zeros((9,8))      \n",
    "    for h in range(len(list_part)):\n",
    "        if np.mean(np.asarray(list_part[h])) == 0:\n",
    "            part_feature[h,:] = [0,0,0,0,0,0,0,0]\n",
    "        else:\n",
    "            codes = fenc.encode_freeman(np.asarray(list_part[h]))\n",
    "        one_count = 0\n",
    "        two_count = 0\n",
    "        three_count = 0\n",
    "        four_count = 0\n",
    "        five_count = 0\n",
    "        six_count = 0\n",
    "        seven_count = 0\n",
    "        zero_count = 0\n",
    "        for z in range(len(codes)):\n",
    "            num = int(codes[z])\n",
    "            if num ==0:\n",
    "                zero_count+=1\n",
    "            elif num==1:\n",
    "                one_count+=1\n",
    "            elif num==2:\n",
    "                two_count+=1\n",
    "            elif num == 3:\n",
    "                three_count+=1\n",
    "            elif num == 4:\n",
    "                four_count+=1\n",
    "            elif num ==5:\n",
    "                five_count+=1\n",
    "            elif num==6:\n",
    "                six_count+=1\n",
    "            elif num==7:\n",
    "                seven_count+=1\n",
    "        part_feature[h,:] = [zero_count/(len(codes)+1),one_count/(len(codes)+1),two_count/(len(codes)+1),three_count/(len(codes)+1),four_count/(len(codes)+1),five_count/(len(codes)+1),six_count/(len(codes)+1),seven_count/(len(codes)+1)]\n",
    "    part_feature = part_feature.ravel(order='C')\n",
    "    img_feature[t,:] = part_feature\n",
    "                \n"
   ]
  },
  {
   "cell_type": "code",
   "execution_count": null,
   "metadata": {},
   "outputs": [],
   "source": [
    "img_parts = np.zeros((len(newnew_images),9))\n",
    "my_list\n",
    "\n",
    "part_img = np.zeros(9)\n",
    "for i in range(len(image_parts)):\n",
    "    for j in range(9):\n",
    "        part_img[j] = image_parts[i]"
   ]
  },
  {
   "cell_type": "code",
   "execution_count": 80,
   "metadata": {},
   "outputs": [
    {
     "data": {
      "image/png": "[encoded data removed]",
      "text/plain": [
       "<Figure size 576x432 with 9 Axes>"
      ]
     },
     "metadata": {
      "needs_background": "light"
     },
     "output_type": "display_data"
    }
   ],
   "source": [
    "%matplotlib inline\n",
    "fig, axes = plt.subplots(nrows=3, ncols=3)\n",
    "fig.set_size_inches(8,6)\n",
    "axes[0,0].imshow(image_parts[0], cmap=plt.cm.gray)\n",
    "axes[0,1].imshow(image_parts[1], cmap=plt.cm.gray)\n",
    "axes[0,2].imshow(image_parts[2], cmap=plt.cm.gray)\n",
    "axes[1,0].imshow(image_parts[3], cmap=plt.cm.gray)\n",
    "axes[1,1].imshow(image_parts[4], cmap=plt.cm.gray)\n",
    "axes[1,2].imshow(image_parts[5], cmap=plt.cm.gray)\n",
    "axes[2,0].imshow(image_parts[6], cmap=plt.cm.gray)\n",
    "axes[2,1].imshow(image_parts[7], cmap=plt.cm.gray)\n",
    "axes[2,2].imshow(image_parts[8], cmap=plt.cm.gray)\n",
    "for ax in axes.ravel():\n",
    "    ax.set_axis_off()\n",
    "fig.tight_layout()\n",
    "plt.show()"
   ]
  },
  {
   "cell_type": "code",
   "execution_count": 116,
   "metadata": {},
   "outputs": [],
   "source": [
    "import numpy\n",
    "import math\n",
    "from skimage import measure\n",
    "from copy import deepcopy, copy\n",
    "import cv2\n",
    "import matplotlib.pyplot as plt\n",
    "\n",
    "class FreemanEncoder(object):\n",
    "    '''\n",
    "    classdocs\n",
    "    '''\n",
    "    #Class global variables\n",
    "    #WATCH_OUT! The +x is right, but +y is down, so the representation is different from normal quadrants \n",
    "#     FREEMAN_DICT = {-90:'0', -45:'1', 0:'2', 45:'3', 90:'4', 135:'5', 180:'6', -135:'7'}\n",
    "    FREEMAN_DICT = {-90:'4', -45:'3', 0:'2', 45:'1', 90:'0', 135:'7', 180:'6', -135:'5'}\n",
    "    ALLOWED_DIRECTIONS = numpy.array([0, 45, 90, 135, 180, -45, -90, -135])\n",
    "\n",
    "    def __init__(self):\n",
    "        '''\n",
    "        Constructor\n",
    "        '''\n",
    "        \n",
    "    def find_nearest(self, array, value):\n",
    "        '''\n",
    "        Find the nearest element of array to the given value\n",
    "        '''\n",
    "        idx = (numpy.abs(array-value)).argmin()\n",
    "        return array[idx]\n",
    "    \n",
    "    def encode_freeman(self, image_array):\n",
    "        '''\n",
    "        Encode the image contour in an 8-direction freeman chain code based on angles\n",
    "        '''\n",
    "        image_copy = copy(image_array)\n",
    "        image_contour = self.get_contours(image_copy)\n",
    "        freeman_code = \"\"\n",
    "        \n",
    "        for i in range(len(image_contour) - 1):\n",
    "            delta_x = image_contour[i+1][0] - image_contour[i][0] \n",
    "            delta_y = image_contour[i+1][1] - image_contour[i][1]\n",
    "            angle = math.degrees(math.atan2(delta_y,delta_x))\n",
    "            angle = self.find_nearest(self.ALLOWED_DIRECTIONS, angle)\n",
    "            \n",
    "#             if not(delta_x == 0 and delta_y == 0):\n",
    "#                 freeman_code += self.FREEMAN_DICT[angle]\n",
    "                \n",
    "            if delta_x == 0 and delta_y == 0:\n",
    "                pass\n",
    "            elif delta_x > 0 and delta_y == 0:\n",
    "                freeman_code += '2'\n",
    "            elif delta_x < 0 and delta_y == 0:\n",
    "                freeman_code += '6'\n",
    "            elif delta_x == 0 and delta_y > 0:\n",
    "                freeman_code += '4'\n",
    "            elif delta_x == 0 and delta_y < 0:\n",
    "                freeman_code += '0'\n",
    "            elif delta_x > 0 and delta_y > 0:\n",
    "                freeman_code += '3'\n",
    "            elif delta_x > 0 and delta_y < 0:\n",
    "                freeman_code += '1'\n",
    "            elif delta_x < 0 and delta_y > 0:\n",
    "                freeman_code += '5'\n",
    "            elif delta_x < 0 and delta_y < 0:\n",
    "                freeman_code += '7'    \n",
    "                \n",
    "#             # normalize the code\n",
    "#             freeman_code = self.normalize_freemancode(freeman_code)\n",
    "#         print freeman_code\n",
    "#         print image_contour[0],image_contour[1],image_contour[2] \n",
    "#         plt.imshow(image_array)\n",
    "#         plt.show()\n",
    "        \n",
    "        return freeman_code\n",
    "    \n",
    "    def get_contours(self, image_array):\n",
    "        #Extract the longest contour in the image\n",
    "        contours, hierarchy = cv2.findContours(image_array,cv2.RETR_EXTERNAL,cv2.CHAIN_APPROX_NONE)\n",
    "        \n",
    "#         contours = measure.find_contours(image_array, 0.9, positive_orientation='high')\n",
    "        contours_main = max(contours, key=len)\n",
    "        contours_main = [item for sublist in contours_main for item in sublist] #only for the v2 method\n",
    "        \n",
    "        return contours_main\n",
    "    \n",
    "    def encode_freeman_dataset(self, images_dataset):\n",
    "        '''\n",
    "        Encode images dataset (given as a dictionary where keys are classes, \n",
    "        and values are the arrays of images, into a freeman code dictionary of \n",
    "        the same structure\n",
    "        '''\n",
    "        freeman_code_dict = dict((key, []) for key in images_dataset.keys())\n",
    "        for key in images_dataset:\n",
    "            for image in images_dataset[key]:\n",
    "                image_freeman = self.encode_freeman(image)\n",
    "                freeman_code_dict[key].append(image_freeman)\n",
    "                \n",
    "        return freeman_code_dict\n",
    "#         return self.pad_codes(freeman_code_dict)\n",
    "    \n",
    "    def count_bagofwords(self, string, bagofwords=set(FREEMAN_DICT.values())):\n",
    "        bagofwords_count = []\n",
    "        for char in bagofwords:\n",
    "            char_count = string.count(char)\n",
    "            bagofwords_count.append(char_count)\n",
    "            \n",
    "        return bagofwords_count\n",
    "    \n",
    "    def gen_bagofwords_dict(self, freeman_code_dict):\n",
    "        bagofwords_dict = dict((key, []) for key in freeman_code_dict.keys())\n",
    "        for key in freeman_code_dict:\n",
    "            for code in freeman_code_dict[key]:\n",
    "                code_bagofwords_count = self.count_bagofwords(code)\n",
    "                bagofwords_dict[key].append(code_bagofwords_count)\n",
    "                \n",
    "        return bagofwords_dict\n",
    "    \n",
    "    def normalize_freemancode(self,code):\n",
    "        min_code = min(code)\n",
    "        while code[0] != min_code:\n",
    "            code = code[1:] + code[:1]\n",
    "         \n",
    "\n",
    "        return code\n",
    "    \n",
    "    def pad_codes(self, codes_dict):\n",
    "        max_len = max(map(len,codes_dict.values()))\n",
    "        \n",
    "        padded_codes_dict = deepcopy(codes_dict)\n",
    "        for key in codes_dict:\n",
    "            codes = [x.zfill(max_len) for x in codes_dict[key]]\n",
    "            padded_codes_dict[key] = codes\n",
    "            \n",
    "        return padded_codes_dict\n",
    "                \n"
   ]
  },
  {
   "cell_type": "markdown",
   "metadata": {},
   "source": [
    "# add relative feature"
   ]
  },
  {
   "cell_type": "code",
   "execution_count": 254,
   "metadata": {},
   "outputs": [],
   "source": [
    "relative_features = np.zeros((len(images)))\n",
    "for i in range(len(images)):\n",
    "    img = images[i]\n",
    "    relative_feature = (img.shape[0]*img.shape[1])/2000\n",
    "    relative_features[i] = relative_feature"
   ]
  },
  {
   "cell_type": "code",
   "execution_count": 255,
   "metadata": {},
   "outputs": [],
   "source": [
    "img_ff = img_feature\n",
    "new_img_feature= np.hstack((img_ff,relative_features.reshape(60000,1)))"
   ]
  },
  {
   "cell_type": "code",
   "execution_count": 256,
   "metadata": {},
   "outputs": [
    {
     "data": {
      "text/plain": [
       "(60000, 73)"
      ]
     },
     "execution_count": 256,
     "metadata": {},
     "output_type": "execute_result"
    }
   ],
   "source": [
    "new_img_feature.shape"
   ]
  },
  {
   "cell_type": "markdown",
   "metadata": {},
   "source": [
    "# add white-black transition feature"
   ]
  },
  {
   "cell_type": "code",
   "execution_count": 252,
   "metadata": {},
   "outputs": [],
   "source": [
    "tr_v1 = np.zeros((len(images)))\n",
    "for i in range(len(images)):\n",
    "    img = images[i]\n",
    "    counter = 0\n",
    "    for y in range(img.shape[1]):\n",
    "        for t in range(img.shape[0]):\n",
    "            if img[t,y]==0:\n",
    "                counter +=1\n",
    "            else:\n",
    "                break\n",
    "    tr_v1[i] = counter/(img.shape[0]*img.shape[1])\n",
    "                \n",
    "            "
   ]
  },
  {
   "cell_type": "code",
   "execution_count": 257,
   "metadata": {},
   "outputs": [
    {
     "data": {
      "text/plain": [
       "(60000, 74)"
      ]
     },
     "execution_count": 257,
     "metadata": {},
     "output_type": "execute_result"
    }
   ],
   "source": [
    "new_img_feature = np.hstack((new_img_feature,tr_v1.reshape(60000,1)))\n",
    "new_img_feature.shape"
   ]
  },
  {
   "cell_type": "code",
   "execution_count": 258,
   "metadata": {},
   "outputs": [],
   "source": [
    "tr_h1 = np.zeros((len(images)))\n",
    "tr_h2 = np.zeros((len(images)))\n",
    "\n",
    "for i in range(len(images)):\n",
    "    img = images[i]\n",
    "    first_half = img[0:int(img.shape[0]/2),:]\n",
    "    second_half = img[int(img.shape[0]/2):,:]\n",
    "    counter_h1 = 0\n",
    "    counter_h2 = 0\n",
    "    \n",
    "    for t in range(first_half.shape[0]):\n",
    "        for y in range(first_half.shape[1]):\n",
    "            if first_half[t,y]==0:\n",
    "                counter_h1 +=1\n",
    "            else:\n",
    "                break\n",
    "    tr_h1[i] = counter_h1/(int(img.shape[0]/2)*img.shape[1])\n",
    "    \n",
    "    for t in range(second_half.shape[0]):\n",
    "        for y in range(second_half.shape[1]):\n",
    "            if second_half[t,y]==0:\n",
    "                counter_h2 +=1\n",
    "            else:\n",
    "                break\n",
    "    tr_h2[i] = counter_h2/(int(img.shape[0]/2)*img.shape[1])"
   ]
  },
  {
   "cell_type": "code",
   "execution_count": 259,
   "metadata": {},
   "outputs": [
    {
     "data": {
      "text/plain": [
       "(60000, 76)"
      ]
     },
     "execution_count": 259,
     "metadata": {},
     "output_type": "execute_result"
    }
   ],
   "source": [
    "new_img_feature= np.hstack((new_img_feature,tr_h1.reshape(60000,1)))\n",
    "new_img_feature= np.hstack((new_img_feature,tr_h2.reshape(60000,1)))\n",
    "new_img_feature.shape"
   ]
  },
  {
   "cell_type": "code",
   "execution_count": 262,
   "metadata": {},
   "outputs": [],
   "source": [
    "from skimage.morphology import skeletonize\n",
    "from skimage import data\n",
    "import matplotlib.pyplot as plt\n",
    "from skimage.util import invert\n",
    "\n",
    "skeletons = []\n",
    "for i in range(len(images)):\n",
    "    img = images[i]\n",
    "    img = img.clip(max=1)\n",
    "    # perform skeletonization\n",
    "    skeleton = skeletonize(img)\n",
    "    skeletons.append(skeleton)"
   ]
  },
  {
   "cell_type": "code",
   "execution_count": 267,
   "metadata": {},
   "outputs": [],
   "source": [
    "tr_v2 = np.zeros((len(skeletons)))\n",
    "for i in range(len(skeletons)):\n",
    "    img = skeletons[i]\n",
    "    counter = 0\n",
    "    transotion_num = 0\n",
    "    for y in range(img.shape[1]):\n",
    "        for t in range(img.shape[0]):\n",
    "            if img[t,y]==0:\n",
    "                counter +=1\n",
    "            elif img[t,y]==1 :\n",
    "                transotion_num+=1\n",
    "                counter +=1\n",
    "            elif transotion_num==2:\n",
    "                break\n",
    "    tr_v2[i] = counter/(img.shape[0]*img.shape[1])"
   ]
  },
  {
   "cell_type": "code",
   "execution_count": 268,
   "metadata": {},
   "outputs": [],
   "source": [
    "tr_v3 = np.zeros((len(skeletons)))\n",
    "for i in range(len(skeletons)):\n",
    "    img = skeletons[i]\n",
    "    counter = 0\n",
    "    transotion_num = 0\n",
    "    for y in range(img.shape[1]):\n",
    "        for t in range(img.shape[0]):\n",
    "            if img[t,y]==0:\n",
    "                counter +=1\n",
    "            elif img[t,y]==1 :\n",
    "                transotion_num+=1\n",
    "                counter +=1\n",
    "            elif transotion_num==3:\n",
    "                break\n",
    "    tr_v3[i] = counter/(img.shape[0]*img.shape[1])"
   ]
  },
  {
   "cell_type": "code",
   "execution_count": 269,
   "metadata": {},
   "outputs": [
    {
     "data": {
      "text/plain": [
       "(60000, 78)"
      ]
     },
     "execution_count": 269,
     "metadata": {},
     "output_type": "execute_result"
    }
   ],
   "source": [
    "new_img_feature= np.hstack((new_img_feature,tr_v2.reshape(60000,1)))\n",
    "new_img_feature= np.hstack((new_img_feature,tr_v3.reshape(60000,1)))\n",
    "new_img_feature.shape"
   ]
  },
  {
   "cell_type": "code",
   "execution_count": 270,
   "metadata": {},
   "outputs": [],
   "source": [
    "tr_h12 = np.zeros((len(images)))\n",
    "tr_h22 = np.zeros((len(images)))\n",
    "\n",
    "for i in range(len(images)):\n",
    "    img = images[i]\n",
    "    first_half = img[0:int(img.shape[0]/2),:]\n",
    "    second_half = img[int(img.shape[0]/2):,:]\n",
    "    \n",
    "    counter_h1 = 0\n",
    "    transition_num = 0\n",
    "    for t in range(first_half.shape[0]):\n",
    "        for y in range(first_half.shape[1]):\n",
    "            if first_half[t,y]==0:\n",
    "                counter_h1 +=1\n",
    "            elif first_half[t,y]==1 :\n",
    "                counter_h1 +=1\n",
    "                transition_num +=1\n",
    "            elif transition_num==2:\n",
    "                break\n",
    "    tr_h12[i] = counter_h1/(int(img.shape[0]/2)*img.shape[1])\n",
    "    \n",
    "    counter_h2 = 0\n",
    "    transition_num_1 = 0\n",
    "    for t in range(second_half.shape[0]):\n",
    "        for y in range(second_half.shape[1]):\n",
    "            if second_half[t,y]==0:\n",
    "                counter_h2 +=1\n",
    "            elif second_half[t,y]==1:\n",
    "                counter_h2 +=1\n",
    "                transition_num_1+=1\n",
    "            elif transition_num_1==2:\n",
    "                break\n",
    "    tr_h22[i] = counter_h2/(int(img.shape[0]/2)*img.shape[1])"
   ]
  },
  {
   "cell_type": "code",
   "execution_count": 271,
   "metadata": {},
   "outputs": [
    {
     "data": {
      "text/plain": [
       "(60000, 80)"
      ]
     },
     "execution_count": 271,
     "metadata": {},
     "output_type": "execute_result"
    }
   ],
   "source": [
    "new_img_feature= np.hstack((new_img_feature,tr_h12.reshape(60000,1)))\n",
    "new_img_feature= np.hstack((new_img_feature,tr_h22.reshape(60000,1)))\n",
    "new_img_feature.shape"
   ]
  },
  {
   "cell_type": "code",
   "execution_count": 272,
   "metadata": {},
   "outputs": [],
   "source": [
    "tr_h12 = np.zeros((len(images)))\n",
    "tr_h22 = np.zeros((len(images)))\n",
    "\n",
    "for i in range(len(images)):\n",
    "    img = images[i]\n",
    "    first_half = img[0:int(img.shape[0]/2),:]\n",
    "    second_half = img[int(img.shape[0]/2):,:]\n",
    "    \n",
    "    counter_h1 = 0\n",
    "    transition_num = 0\n",
    "    for t in range(first_half.shape[0]):\n",
    "        for y in range(first_half.shape[1]):\n",
    "            if first_half[t,y]==0:\n",
    "                counter_h1 +=1\n",
    "            elif first_half[t,y]==1 :\n",
    "                counter_h1 +=1\n",
    "                transition_num +=1\n",
    "            elif transition_num==3:\n",
    "                break\n",
    "    tr_h12[i] = counter_h1/(int(img.shape[0]/2)*img.shape[1])\n",
    "    \n",
    "    counter_h2 = 0\n",
    "    transition_num_1 = 0\n",
    "    for t in range(second_half.shape[0]):\n",
    "        for y in range(second_half.shape[1]):\n",
    "            if second_half[t,y]==0:\n",
    "                counter_h2 +=1\n",
    "            elif second_half[t,y]==1:\n",
    "                counter_h2 +=1\n",
    "                transition_num_1+=1\n",
    "            elif transition_num_1==3:\n",
    "                break\n",
    "    tr_h22[i] = counter_h2/(int(img.shape[0]/2)*img.shape[1])"
   ]
  },
  {
   "cell_type": "code",
   "execution_count": 273,
   "metadata": {},
   "outputs": [
    {
     "data": {
      "text/plain": [
       "(60000, 82)"
      ]
     },
     "execution_count": 273,
     "metadata": {},
     "output_type": "execute_result"
    }
   ],
   "source": [
    "new_img_feature= np.hstack((new_img_feature,tr_h12.reshape(60000,1)))\n",
    "new_img_feature= np.hstack((new_img_feature,tr_h22.reshape(60000,1)))\n",
    "new_img_feature.shape"
   ]
  },
  {
   "cell_type": "markdown",
   "metadata": {},
   "source": [
    "# classification"
   ]
  },
  {
   "cell_type": "code",
   "execution_count": 159,
   "metadata": {},
   "outputs": [],
   "source": [
    "#without transition feature"
   ]
  },
  {
   "cell_type": "code",
   "execution_count": 164,
   "metadata": {},
   "outputs": [
    {
     "data": {
      "text/plain": [
       "0.9731"
      ]
     },
     "execution_count": 164,
     "metadata": {},
     "output_type": "execute_result"
    }
   ],
   "source": [
    "from sklearn import svm\n",
    "from sklearn.metrics import accuracy_score\n",
    "clf = svm.SVC(C=100,kernel ='rbf', gamma=1)\n",
    "clf.fit(img_feature[:50000,:], labels[:50000])\n",
    "pred = clf.predict(img_feature[50000:,:])\n",
    "accuracy_score(labels[50000:], pred)"
   ]
  },
  {
   "cell_type": "code",
   "execution_count": null,
   "metadata": {},
   "outputs": [],
   "source": [
    "#with transition feature"
   ]
  },
  {
   "cell_type": "code",
   "execution_count": 261,
   "metadata": {},
   "outputs": [
    {
     "data": {
      "text/plain": [
       "0.9785"
      ]
     },
     "execution_count": 261,
     "metadata": {},
     "output_type": "execute_result"
    }
   ],
   "source": [
    "from sklearn import svm\n",
    "clf = svm.SVC(C=100,kernel ='rbf', gamma=1)\n",
    "clf.fit(new_img_feature[:50000,:], labels[:50000])\n",
    "pred = clf.predict(new_img_feature[50000:,:])\n",
    "accuracy_score(labels[50000:], pred)"
   ]
  },
  {
   "cell_type": "code",
   "execution_count": 274,
   "metadata": {},
   "outputs": [
    {
     "data": {
      "text/plain": [
       "0.9814"
      ]
     },
     "execution_count": 274,
     "metadata": {},
     "output_type": "execute_result"
    }
   ],
   "source": [
    "#with all transition feature\n",
    "from sklearn import svm\n",
    "clf = svm.SVC(C=100,kernel ='rbf', gamma=1)\n",
    "clf.fit(new_img_feature[:50000,:], labels[:50000])\n",
    "pred = clf.predict(new_img_feature[50000:,:])\n",
    "accuracy_score(labels[50000:], pred)"
   ]
  }
 ],
 "metadata": {
  "kernelspec": {
   "display_name": "Python 3",
   "language": "python",
   "name": "python3"
  },
  "language_info": {
   "codemirror_mode": {
    "name": "ipython",
    "version": 3
   },
   "file_extension": ".py",
   "mimetype": "text/x-python",
   "name": "python",
   "nbconvert_exporter": "python",
   "pygments_lexer": "ipython3",
   "version": "3.7.3"
  }
 },
 "nbformat": 4,
 "nbformat_minor": 2
}
